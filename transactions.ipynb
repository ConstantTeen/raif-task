{
 "cells": [
  {
   "cell_type": "code",
   "execution_count": 22,
   "metadata": {},
   "outputs": [],
   "source": [
    "import pandas\n",
    "\n",
    "path = '/usr/local/data/transactions.txt'\n",
    "data = pandas.read_csv(path, header=None, names = ['index','id','transaction','segment'])"
   ]
  },
  {
   "cell_type": "markdown",
   "metadata": {},
   "source": [
    "### 1. Количество клиентов для каждого из сегментов, совершавших транзакции."
   ]
  },
  {
   "cell_type": "code",
   "execution_count": 13,
   "metadata": {},
   "outputs": [
    {
     "name": "stdout",
     "output_type": "stream",
     "text": [
      "Количество клиентов для сегмента R:  8\n",
      "Количество клиентов для сегмента AF:  7\n"
     ]
    }
   ],
   "source": [
    "segments_groups = data.groupby('segment')\n",
    "r_segment = segments_groups.get_group('R')\n",
    "af_segment = segments_groups.get_group('AF')\n",
    "r_segment_len = len(r_segment)\n",
    "af_segment_len = len(af_segment)\n",
    "\n",
    "print('Количество клиентов для сегмента R: ',  r_segment_len)\n",
    "print('Количество клиентов для сегмента AF: ', af_segment_len)"
   ]
  },
  {
   "cell_type": "markdown",
   "metadata": {},
   "source": [
    "### 2. Cредний объем отдельной транзакции в каждом из сегментов."
   ]
  },
  {
   "cell_type": "code",
   "execution_count": 17,
   "metadata": {},
   "outputs": [
    {
     "name": "stdout",
     "output_type": "stream",
     "text": [
      "Cредний объем отдельной транзакции для сегмента R:  3172\n",
      "Cредний объем отдельной транзакции для сегмента AF:  26129\n"
     ]
    }
   ],
   "source": [
    "r_mean_transaction = round(r_segment['transaction'].mean())\n",
    "af_mean_transaction = round(af_segment['transaction'].mean())\n",
    "\n",
    "print('Cредний объем отдельной транзакции для сегмента R: ',  r_mean_transaction)\n",
    "print('Cредний объем отдельной транзакции для сегмента AF: ', af_mean_transaction)"
   ]
  },
  {
   "cell_type": "markdown",
   "metadata": {},
   "source": [
    "### 3. 90% доверительный интервал для среднего объема отдельной транзакции в каждом из сегментов."
   ]
  },
  {
   "cell_type": "code",
   "execution_count": 21,
   "metadata": {},
   "outputs": [
    {
     "name": "stdout",
     "output_type": "stream",
     "text": [
      "Доверительный интервал для сегмента R:  (2336, 4009)\n",
      "Доверительный интервал для сегмента AF:  (5408, 46849)\n"
     ]
    }
   ],
   "source": [
    "import math\n",
    "\n",
    "const_t = 1.65 # точка, в которой функция Лапласа = 0.90/2\n",
    "\n",
    "\n",
    "def getInterval(df):\n",
    "    \"\"\"\n",
    "    Находит границу доверительного интервала для датафрейма df.\n",
    "    \"\"\"\n",
    "    var = df.var() # дисперсия\n",
    "    mean = df.mean()\n",
    "    n = len(df)\n",
    "    \n",
    "    left_bound = mean - const_t*math.sqrt(var/n)\n",
    "    right_bound = mean + const_t*math.sqrt(var/n)\n",
    "    \n",
    "    return round(left_bound),round(right_bound)\n",
    "    \n",
    "    \n",
    "r_interval, af_interval = map(getInterval,(r_segment['transaction'],af_segment['transaction']))\n",
    "\n",
    "print('Доверительный интервал для сегмента R: ', r_interval)\n",
    "print('Доверительный интервал для сегмента AF: ', af_interval)"
   ]
  },
  {
   "cell_type": "markdown",
   "metadata": {},
   "source": [
    "### 4. Проверка гипотезы о равенстве средних объемов отдельных транзакций между сегментами при уровне значимости 10%."
   ]
  },
  {
   "cell_type": "code",
   "execution_count": null,
   "metadata": {},
   "outputs": [],
   "source": [
    "const_alpha = 0.1 # уровень значимости\n"
   ]
  }
 ],
 "metadata": {
  "kernelspec": {
   "display_name": "Python 3",
   "language": "python",
   "name": "python3"
  },
  "language_info": {
   "codemirror_mode": {
    "name": "ipython",
    "version": 3
   },
   "file_extension": ".py",
   "mimetype": "text/x-python",
   "name": "python",
   "nbconvert_exporter": "python",
   "pygments_lexer": "ipython3",
   "version": "3.7.4"
  }
 },
 "nbformat": 4,
 "nbformat_minor": 2
}
